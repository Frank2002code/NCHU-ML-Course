{
 "cells": [
  {
   "cell_type": "markdown",
   "metadata": {
    "id": "FN0zAC2HMUbg"
   },
   "source": [
    "# **Introduction to Keras using a TensorFlow 2.0 Backend**\n",
    "\n",
    "1. Loading our MNIST dataset\n",
    "2. Inspecting our dataset\n",
    "3. Visualizing our image dataset\n",
    "5. Preprocessing our dataset\n",
    "6. Building our Model\n",
    "7. Training our Model\n",
    "8. Plotting our training logs\n",
    "9. Saving and Loading our Model\n",
    "10. Testing our model on test data"
   ]
  },
  {
   "cell_type": "markdown",
   "metadata": {
    "id": "n-mSs_WBMeOi"
   },
   "source": [
    "## **1. Loading our Data**\n",
    "\n",
    "There are built in datasets from ```tensorflow.keras.datasets``` to load our data. We use the ```mnist.load_data()``` function.\n",
    "\n",
    "Returns: **2 tuples**\n",
    "- x_train, x_test: uint8 array of RGB image data with shape (num_samples, 3, 32, 32) or (num_samples, 32, 32, 3) based on the image_data_format backend setting of either channels_first or channels_last respectively.\n",
    "- y_train, y_test: uint8 array of category labels (integers in range 0-9) with shape (num_samples, 1).\n",
    "\n",
    "- More info on available datases at https://keras.io/datasets/"
   ]
  },
  {
   "cell_type": "code",
   "execution_count": 1,
   "metadata": {
    "colab": {
     "base_uri": "https://localhost:8080/"
    },
    "executionInfo": {
     "elapsed": 2558,
     "status": "ok",
     "timestamp": 1701678399895,
     "user": {
      "displayName": "楊景明",
      "userId": "02385702773581765739"
     },
     "user_tz": -480
    },
    "id": "7eKRfvOqMU5J",
    "outputId": "3a6b748f-c3ff-4c34-8e86-49adf377d589"
   },
   "outputs": [],
   "source": [
    "# We can load the built in datasets from this function\n",
    "from tensorflow.keras.datasets import mnist\n",
    "\n",
    "# loads the MNIST training and test dataset\n",
    "(x_train, y_train), (x_test, y_test)  = mnist.load_data()"
   ]
  },
  {
   "cell_type": "markdown",
   "metadata": {
    "id": "1RGjxzyFMy_w"
   },
   "source": [
    "#### **A quick check to see if we're using the GPU**"
   ]
  },
  {
   "cell_type": "code",
   "execution_count": 2,
   "metadata": {
    "colab": {
     "base_uri": "https://localhost:8080/"
    },
    "executionInfo": {
     "elapsed": 2,
     "status": "ok",
     "timestamp": 1701678399895,
     "user": {
      "displayName": "楊景明",
      "userId": "02385702773581765739"
     },
     "user_tz": -480
    },
    "id": "nr7nm0F_MjzH",
    "outputId": "0742393d-3c7c-4869-92da-1f82cbd03349"
   },
   "outputs": [
    {
     "name": "stdout",
     "output_type": "stream",
     "text": [
      "[name: \"/device:CPU:0\"\n",
      "device_type: \"CPU\"\n",
      "memory_limit: 268435456\n",
      "locality {\n",
      "}\n",
      "incarnation: 12030790105175967426\n",
      "xla_global_id: -1\n",
      "]\n"
     ]
    }
   ],
   "source": [
    "# Check to see if we're using the GPU\n",
    "from tensorflow.python.client import device_lib\n",
    "\n",
    "print(device_lib.list_local_devices())"
   ]
  },
  {
   "cell_type": "markdown",
   "metadata": {
    "id": "IAGk9u3mM_2N"
   },
   "source": [
    "## **2. Inspecting our dataset**"
   ]
  },
  {
   "cell_type": "code",
   "execution_count": 3,
   "metadata": {
    "colab": {
     "base_uri": "https://localhost:8080/"
    },
    "executionInfo": {
     "elapsed": 2,
     "status": "ok",
     "timestamp": 1701678403889,
     "user": {
      "displayName": "楊景明",
      "userId": "02385702773581765739"
     },
     "user_tz": -480
    },
    "id": "xIPHOtWqM1fY",
    "outputId": "4198f8de-82b2-4a76-ca81-77ea0ae40f7b"
   },
   "outputs": [
    {
     "name": "stdout",
     "output_type": "stream",
     "text": [
      "Initial shape or dimensions of x_train (60000, 28, 28)\n",
      "Number of samples in our training data: 60000\n",
      "Number of labels in our training data: 60000\n",
      "Number of samples in our test data: 10000\n",
      "Number of labels in our test data: 10000\n",
      "\n",
      "\n",
      "Dimensions of x_train:(28, 28)\n",
      "Labels in x_train:(60000,)\n",
      "\n",
      "\n",
      "Dimensions of x_test:(28, 28)\n",
      "Labels in y_test:(10000,)\n"
     ]
    }
   ],
   "source": [
    "# Display the number of samples in x_train, x_test, y_train, y_test\n",
    "print(\"Initial shape or dimensions of x_train\", str(x_train.shape))\n",
    "\n",
    "# Print the number of samples in our data\n",
    "print (\"Number of samples in our training data: \" + str(len(x_train)))\n",
    "print (\"Number of labels in our training data: \" + str(len(y_train)))\n",
    "print (\"Number of samples in our test data: \" + str(len(x_test)))\n",
    "print (\"Number of labels in our test data: \" + str(len(y_test)))\n",
    "\n",
    "# Print the image dimensions and no. of labels in our Training and Test Data\n",
    "print(\"\\n\")\n",
    "print (\"Dimensions of x_train:\" + str(x_train[0].shape))\n",
    "print (\"Labels in x_train:\" + str(y_train.shape))\n",
    "print(\"\\n\")\n",
    "print (\"Dimensions of x_test:\" + str(x_test[0].shape))\n",
    "print (\"Labels in y_test:\" + str(y_test.shape))"
   ]
  },
  {
   "cell_type": "markdown",
   "metadata": {
    "id": "OqFJdIIkNGpw"
   },
   "source": [
    "## **3. Visualizing our image dataset**\n",
    "\n",
    "Let's take a look at some of images in this dataset\n",
    "- Using Matplotlib"
   ]
  },
  {
   "cell_type": "code",
   "execution_count": 4,
   "metadata": {
    "colab": {
     "base_uri": "https://localhost:8080/",
     "height": 818
    },
    "executionInfo": {
     "elapsed": 4023,
     "status": "ok",
     "timestamp": 1701678411289,
     "user": {
      "displayName": "楊景明",
      "userId": "02385702773581765739"
     },
     "user_tz": -480
    },
    "id": "LTOul8ziNCPy",
    "outputId": "4c174b7f-3be4-4f5f-e4ef-e3a2fb6ca9cd"
   },
   "outputs": [
    {
     "data": {
      "text/plain": [
       "<Figure size 640x480 with 0 Axes>"
      ]
     },
     "metadata": {},
     "output_type": "display_data"
    },
    {
     "data": {
      "image/png": "[encoded data removed]",
      "text/plain": [
       "<Figure size 1600x1000 with 50 Axes>"
      ]
     },
     "metadata": {},
     "output_type": "display_data"
    }
   ],
   "source": [
    "# Let's view the 50 first images of the MNIST training dataset\n",
    "import matplotlib.pyplot as plt\n",
    "\n",
    "# Create figure and change size\n",
    "figure = plt.figure()\n",
    "plt.figure(figsize=(16,10))\n",
    "\n",
    "# Set how many images we wish to see\n",
    "num_of_images = 50\n",
    "\n",
    "# iterate index from 1 to 51\n",
    "for index in range(1, num_of_images + 1):\n",
    "    plt.subplot(5, 10, index).set_title(f'{y_train[index]}')\n",
    "    plt.axis('off')\n",
    "    plt.imshow(x_train[index], cmap='gray_r')"
   ]
  },
  {
   "cell_type": "markdown",
   "metadata": {
    "id": "t33KvDoXNZue"
   },
   "source": [
    "## **4. Preprocessing our dataset**\n",
    "\n",
    "Before passing our data to our CNN for training, we need to prepare it firstly. This entials:\n",
    "1. Reshaping our data by adding a 4th Dimension\n",
    "2. Changing our datatype from uint8 to float32\n",
    "3. Normalizing our data to values between 0 and 1\n",
    "4. One hot encoding"
   ]
  },
  {
   "cell_type": "code",
   "execution_count": 5,
   "metadata": {
    "colab": {
     "base_uri": "https://localhost:8080/"
    },
    "executionInfo": {
     "elapsed": 509,
     "status": "ok",
     "timestamp": 1701678674459,
     "user": {
      "displayName": "楊景明",
      "userId": "02385702773581765739"
     },
     "user_tz": -480
    },
    "id": "-bl95tXUNQro",
    "outputId": "28997721-bd2c-4efd-eb81-14ac3f8d2bf9"
   },
   "outputs": [
    {
     "name": "stdout",
     "output_type": "stream",
     "text": [
      "x_train shape: (60000, 28, 28, 1)\n",
      "60000 train samples\n",
      "10000 test samples\n"
     ]
    }
   ],
   "source": [
    "# Lets store the number of rows and columns\n",
    "img_rows = x_train[0].shape[0]\n",
    "img_cols = x_train[0].shape[1]\n",
    "\n",
    "# Getting our data in the right 'shape' needed for Keras\n",
    "# We need to add a 4th dimenion to our data thereby changing our\n",
    "# Our original image shape of (60000,28,28) to (60000,28,28,1)\n",
    "x_train = x_train.reshape(x_train.shape[0], img_rows, img_cols, 1)\n",
    "x_test = x_test.reshape(x_test.shape[0], img_rows, img_cols, 1)\n",
    "\n",
    "# store the shape of a single image\n",
    "input_shape = (img_rows, img_cols, 1)\n",
    "\n",
    "# change our image type to float32 data type\n",
    "x_train = x_train.astype('float32') #uint8 originally\n",
    "x_test = x_test.astype('float32')\n",
    "\n",
    "# Normalize our data by changing the range from (0 to 255) to (0 to 1)\n",
    "x_train /= 255.0\n",
    "x_test /= 255.0\n",
    "\n",
    "print('x_train shape:', x_train.shape)\n",
    "print(x_train.shape[0], 'train samples')\n",
    "print(x_test.shape[0], 'test samples')"
   ]
  },
  {
   "cell_type": "markdown",
   "metadata": {
    "id": "FIz7df3PNXLT"
   },
   "source": [
    "#### **One Hot Encode Our Labels**\n",
    "\n",
    "We can easily implement this transformm using ```to_categorical``` from ``` tensorflow.keras.utils```"
   ]
  },
  {
   "cell_type": "code",
   "execution_count": 6,
   "metadata": {
    "colab": {
     "base_uri": "https://localhost:8080/"
    },
    "executionInfo": {
     "elapsed": 553,
     "status": "ok",
     "timestamp": 1701678698907,
     "user": {
      "displayName": "楊景明",
      "userId": "02385702773581765739"
     },
     "user_tz": -480
    },
    "id": "3rbd1RZuOJZd",
    "outputId": "6a87ed9a-138d-48d0-b6b1-bc4fbd137159"
   },
   "outputs": [
    {
     "name": "stdout",
     "output_type": "stream",
     "text": [
      "Number of Classes: 10\n"
     ]
    }
   ],
   "source": [
    "from tensorflow.keras.utils import to_categorical\n",
    "\n",
    "# Now we one hot encode outputs\n",
    "y_train = to_categorical(y_train)\n",
    "y_test = to_categorical(y_test)\n",
    "\n",
    "# Let's count the number columns in our hot encoded matrix\n",
    "print (\"Number of Classes: \" + str(y_test.shape[1]))\n",
    "\n",
    "num_classes = y_test.shape[1]\n",
    "num_pixels = x_train.shape[1] * x_train.shape[2]"
   ]
  },
  {
   "cell_type": "code",
   "execution_count": 7,
   "metadata": {
    "colab": {
     "base_uri": "https://localhost:8080/"
    },
    "executionInfo": {
     "elapsed": 2,
     "status": "ok",
     "timestamp": 1701678702993,
     "user": {
      "displayName": "楊景明",
      "userId": "02385702773581765739"
     },
     "user_tz": -480
    },
    "id": "HPsHFBa-OSuV",
    "outputId": "aedd912b-c2c1-46d6-8bfa-ea273cc8a1a8"
   },
   "outputs": [
    {
     "data": {
      "text/plain": [
       "array([0., 0., 0., 0., 0., 1., 0., 0., 0., 0.])"
      ]
     },
     "execution_count": 7,
     "metadata": {},
     "output_type": "execute_result"
    }
   ],
   "source": [
    "y_train[0]"
   ]
  },
  {
   "cell_type": "markdown",
   "metadata": {
    "id": "N1YNnf9cOgpP"
   },
   "source": [
    "## **5. Building Our Model**\n",
    "\n",
    "![](https://github.com/rajeevratan84/ModernComputerVision/raw/main/CleanShot%202020-11-29%20at%204.21.04%402x.png)\n",
    "- We're constructing a simple but effective CNN that uses 32 filters of size 3x3\n",
    "- We've added a 2nd CONV layer of 64 filters of the same size 3x3\n",
    "- We then downsample our data to 2x2\n",
    "- We then flatten our Max Pool output that is connected to a Dense/FC layer that has an output size of 128\n",
    "- Then we connect our 128 outputs to another FC/Dense layer that outputs to the 10 categorical units"
   ]
  },
  {
   "cell_type": "code",
   "execution_count": 8,
   "metadata": {
    "colab": {
     "base_uri": "https://localhost:8080/"
    },
    "executionInfo": {
     "elapsed": 547,
     "status": "ok",
     "timestamp": 1701678980068,
     "user": {
      "displayName": "楊景明",
      "userId": "02385702773581765739"
     },
     "user_tz": -480
    },
    "id": "uMxI4lTpOb61",
    "outputId": "5a9c8030-ef60-4f61-8909-d71806b87968"
   },
   "outputs": [
    {
     "name": "stderr",
     "output_type": "stream",
     "text": [
      "d:\\ML_NCHU\\ml_nchu\\Lib\\site-packages\\keras\\src\\layers\\convolutional\\base_conv.py:107: UserWarning: Do not pass an `input_shape`/`input_dim` argument to a layer. When using Sequential models, prefer using an `Input(shape)` object as the first layer in the model instead.\n",
      "  super().__init__(activity_regularizer=activity_regularizer, **kwargs)\n"
     ]
    },
    {
     "data": {
      "text/html": [
       "<pre style=\"white-space:pre;overflow-x:auto;line-height:normal;font-family:Menlo,'DejaVu Sans Mono',consolas,'Courier New',monospace\"><span style=\"font-weight: bold\">Model: \"sequential\"</span>\n",
       "</pre>\n"
      ],
      "text/plain": [
       "\u001b[1mModel: \"sequential\"\u001b[0m\n"
      ]
     },
     "metadata": {},
     "output_type": "display_data"
    },
    {
     "data": {
      "text/html": [
       "<pre style=\"white-space:pre;overflow-x:auto;line-height:normal;font-family:Menlo,'DejaVu Sans Mono',consolas,'Courier New',monospace\">┏━━━━━━━━━━━━━━━━━━━━━━━━━━━━━━━━━┳━━━━━━━━━━━━━━━━━━━━━━━━┳━━━━━━━━━━━━━━━┓\n",
       "┃<span style=\"font-weight: bold\"> Layer (type)                    </span>┃<span style=\"font-weight: bold\"> Output Shape           </span>┃<span style=\"font-weight: bold\">       Param # </span>┃\n",
       "┡━━━━━━━━━━━━━━━━━━━━━━━━━━━━━━━━━╇━━━━━━━━━━━━━━━━━━━━━━━━╇━━━━━━━━━━━━━━━┩\n",
       "│ conv2d (<span style=\"color: #0087ff; text-decoration-color: #0087ff\">Conv2D</span>)                 │ (<span style=\"color: #00d7ff; text-decoration-color: #00d7ff\">None</span>, <span style=\"color: #00af00; text-decoration-color: #00af00\">26</span>, <span style=\"color: #00af00; text-decoration-color: #00af00\">26</span>, <span style=\"color: #00af00; text-decoration-color: #00af00\">32</span>)     │           <span style=\"color: #00af00; text-decoration-color: #00af00\">320</span> │\n",
       "├─────────────────────────────────┼────────────────────────┼───────────────┤\n",
       "│ conv2d_1 (<span style=\"color: #0087ff; text-decoration-color: #0087ff\">Conv2D</span>)               │ (<span style=\"color: #00d7ff; text-decoration-color: #00d7ff\">None</span>, <span style=\"color: #00af00; text-decoration-color: #00af00\">24</span>, <span style=\"color: #00af00; text-decoration-color: #00af00\">24</span>, <span style=\"color: #00af00; text-decoration-color: #00af00\">64</span>)     │        <span style=\"color: #00af00; text-decoration-color: #00af00\">18,496</span> │\n",
       "├─────────────────────────────────┼────────────────────────┼───────────────┤\n",
       "│ max_pooling2d (<span style=\"color: #0087ff; text-decoration-color: #0087ff\">MaxPooling2D</span>)    │ (<span style=\"color: #00d7ff; text-decoration-color: #00d7ff\">None</span>, <span style=\"color: #00af00; text-decoration-color: #00af00\">12</span>, <span style=\"color: #00af00; text-decoration-color: #00af00\">12</span>, <span style=\"color: #00af00; text-decoration-color: #00af00\">64</span>)     │             <span style=\"color: #00af00; text-decoration-color: #00af00\">0</span> │\n",
       "├─────────────────────────────────┼────────────────────────┼───────────────┤\n",
       "│ flatten (<span style=\"color: #0087ff; text-decoration-color: #0087ff\">Flatten</span>)               │ (<span style=\"color: #00d7ff; text-decoration-color: #00d7ff\">None</span>, <span style=\"color: #00af00; text-decoration-color: #00af00\">9216</span>)           │             <span style=\"color: #00af00; text-decoration-color: #00af00\">0</span> │\n",
       "├─────────────────────────────────┼────────────────────────┼───────────────┤\n",
       "│ dense (<span style=\"color: #0087ff; text-decoration-color: #0087ff\">Dense</span>)                   │ (<span style=\"color: #00d7ff; text-decoration-color: #00d7ff\">None</span>, <span style=\"color: #00af00; text-decoration-color: #00af00\">128</span>)            │     <span style=\"color: #00af00; text-decoration-color: #00af00\">1,179,776</span> │\n",
       "├─────────────────────────────────┼────────────────────────┼───────────────┤\n",
       "│ dense_1 (<span style=\"color: #0087ff; text-decoration-color: #0087ff\">Dense</span>)                 │ (<span style=\"color: #00d7ff; text-decoration-color: #00d7ff\">None</span>, <span style=\"color: #00af00; text-decoration-color: #00af00\">10</span>)             │         <span style=\"color: #00af00; text-decoration-color: #00af00\">1,290</span> │\n",
       "└─────────────────────────────────┴────────────────────────┴───────────────┘\n",
       "</pre>\n"
      ],
      "text/plain": [
       "┏━━━━━━━━━━━━━━━━━━━━━━━━━━━━━━━━━┳━━━━━━━━━━━━━━━━━━━━━━━━┳━━━━━━━━━━━━━━━┓\n",
       "┃\u001b[1m \u001b[0m\u001b[1mLayer (type)                   \u001b[0m\u001b[1m \u001b[0m┃\u001b[1m \u001b[0m\u001b[1mOutput Shape          \u001b[0m\u001b[1m \u001b[0m┃\u001b[1m \u001b[0m\u001b[1m      Param #\u001b[0m\u001b[1m \u001b[0m┃\n",
       "┡━━━━━━━━━━━━━━━━━━━━━━━━━━━━━━━━━╇━━━━━━━━━━━━━━━━━━━━━━━━╇━━━━━━━━━━━━━━━┩\n",
       "│ conv2d (\u001b[38;5;33mConv2D\u001b[0m)                 │ (\u001b[38;5;45mNone\u001b[0m, \u001b[38;5;34m26\u001b[0m, \u001b[38;5;34m26\u001b[0m, \u001b[38;5;34m32\u001b[0m)     │           \u001b[38;5;34m320\u001b[0m │\n",
       "├─────────────────────────────────┼────────────────────────┼───────────────┤\n",
       "│ conv2d_1 (\u001b[38;5;33mConv2D\u001b[0m)               │ (\u001b[38;5;45mNone\u001b[0m, \u001b[38;5;34m24\u001b[0m, \u001b[38;5;34m24\u001b[0m, \u001b[38;5;34m64\u001b[0m)     │        \u001b[38;5;34m18,496\u001b[0m │\n",
       "├─────────────────────────────────┼────────────────────────┼───────────────┤\n",
       "│ max_pooling2d (\u001b[38;5;33mMaxPooling2D\u001b[0m)    │ (\u001b[38;5;45mNone\u001b[0m, \u001b[38;5;34m12\u001b[0m, \u001b[38;5;34m12\u001b[0m, \u001b[38;5;34m64\u001b[0m)     │             \u001b[38;5;34m0\u001b[0m │\n",
       "├─────────────────────────────────┼────────────────────────┼───────────────┤\n",
       "│ flatten (\u001b[38;5;33mFlatten\u001b[0m)               │ (\u001b[38;5;45mNone\u001b[0m, \u001b[38;5;34m9216\u001b[0m)           │             \u001b[38;5;34m0\u001b[0m │\n",
       "├─────────────────────────────────┼────────────────────────┼───────────────┤\n",
       "│ dense (\u001b[38;5;33mDense\u001b[0m)                   │ (\u001b[38;5;45mNone\u001b[0m, \u001b[38;5;34m128\u001b[0m)            │     \u001b[38;5;34m1,179,776\u001b[0m │\n",
       "├─────────────────────────────────┼────────────────────────┼───────────────┤\n",
       "│ dense_1 (\u001b[38;5;33mDense\u001b[0m)                 │ (\u001b[38;5;45mNone\u001b[0m, \u001b[38;5;34m10\u001b[0m)             │         \u001b[38;5;34m1,290\u001b[0m │\n",
       "└─────────────────────────────────┴────────────────────────┴───────────────┘\n"
      ]
     },
     "metadata": {},
     "output_type": "display_data"
    },
    {
     "data": {
      "text/html": [
       "<pre style=\"white-space:pre;overflow-x:auto;line-height:normal;font-family:Menlo,'DejaVu Sans Mono',consolas,'Courier New',monospace\"><span style=\"font-weight: bold\"> Total params: </span><span style=\"color: #00af00; text-decoration-color: #00af00\">1,199,882</span> (4.58 MB)\n",
       "</pre>\n"
      ],
      "text/plain": [
       "\u001b[1m Total params: \u001b[0m\u001b[38;5;34m1,199,882\u001b[0m (4.58 MB)\n"
      ]
     },
     "metadata": {},
     "output_type": "display_data"
    },
    {
     "data": {
      "text/html": [
       "<pre style=\"white-space:pre;overflow-x:auto;line-height:normal;font-family:Menlo,'DejaVu Sans Mono',consolas,'Courier New',monospace\"><span style=\"font-weight: bold\"> Trainable params: </span><span style=\"color: #00af00; text-decoration-color: #00af00\">1,199,882</span> (4.58 MB)\n",
       "</pre>\n"
      ],
      "text/plain": [
       "\u001b[1m Trainable params: \u001b[0m\u001b[38;5;34m1,199,882\u001b[0m (4.58 MB)\n"
      ]
     },
     "metadata": {},
     "output_type": "display_data"
    },
    {
     "data": {
      "text/html": [
       "<pre style=\"white-space:pre;overflow-x:auto;line-height:normal;font-family:Menlo,'DejaVu Sans Mono',consolas,'Courier New',monospace\"><span style=\"font-weight: bold\"> Non-trainable params: </span><span style=\"color: #00af00; text-decoration-color: #00af00\">0</span> (0.00 B)\n",
       "</pre>\n"
      ],
      "text/plain": [
       "\u001b[1m Non-trainable params: \u001b[0m\u001b[38;5;34m0\u001b[0m (0.00 B)\n"
      ]
     },
     "metadata": {},
     "output_type": "display_data"
    },
    {
     "name": "stdout",
     "output_type": "stream",
     "text": [
      "None\n"
     ]
    }
   ],
   "source": [
    "from tensorflow.keras.models import Sequential\n",
    "from tensorflow.keras.layers import Dense, Flatten\n",
    "from tensorflow.keras.layers import Conv2D, MaxPooling2D\n",
    "from tensorflow.keras.optimizers import SGD\n",
    "\n",
    "# create model\n",
    "model = Sequential()\n",
    "\n",
    "# Our First Convolution Layer, Filter size 32 which reduces our layer size to 26 x 26 x 32\n",
    "# We use ReLU activation and specify our input_shape which is 28 x 28 x 1\n",
    "model.add(Conv2D(32, kernel_size=(3, 3), activation='relu', input_shape=input_shape))\n",
    "\n",
    "# Our Second Convolution Layer, Filter size 64 which reduces our layer size to 24 x 24 x 64\n",
    "model.add(Conv2D(64, (3, 3), activation='relu'))\n",
    "\n",
    "# We use MaxPooling with a kernel size of 2 x 2, this reduces our size to 12 x 12 x 64\n",
    "model.add(MaxPooling2D(pool_size=(2, 2)))\n",
    "\n",
    "# We then Flatten our tensor object before input into our Dense Layer\n",
    "# A flatten operation on a tensor reshapes the tensor to have the shape that is\n",
    "# equal to the number of elements contained in tensor\n",
    "# In our CNN it goes from 12 * 12 * 64 to 9216 * 1\n",
    "model.add(Flatten())\n",
    "\n",
    "# We connect this layer to a Fully Connected/Dense layer of size 1 * 128\n",
    "model.add(Dense(128, activation='relu'))\n",
    "\n",
    "# We create our final Fully Connected/Dense layer with an output for each class (10)\n",
    "model.add(Dense(num_classes, activation='softmax'))\n",
    "\n",
    "# We compile our model, this creates an object that stores the model we just created\n",
    "# We set our Optimizer to use Stochastic Gradient Descent (learning rate of 0.001)\n",
    "# We set our loss function to be categorical_crossentropy as it's suitable for multiclass problems\n",
    "# Finally, the metrics (What we judge our performance on) to be accuracy\n",
    "model.compile(loss = 'categorical_crossentropy',\n",
    "              optimizer = SGD(0.001),\n",
    "              metrics = ['accuracy'])\n",
    "\n",
    "# We can use the summary function to display our model layers and parameters\n",
    "print(model.summary())"
   ]
  },
  {
   "cell_type": "markdown",
   "metadata": {
    "id": "PYQC9RNbPxQs"
   },
   "source": [
    "## **6. Training our Model**\n",
    "- Our preprocessed data is used as the input\n",
    "- We set the batch size to 128 (or any number ranging from 8 to 256 is good)\n",
    "- We set the number of epochs to 2, this is just for this tutorial purpose, but a value for at least 10 should be used\n",
    "- We store our model's training results for plotting in future\n",
    "- We then use Kera's molel.evaluate function to output the model's final performance. Here we are examing Test Loss and Test Accuracy"
   ]
  },
  {
   "cell_type": "code",
   "execution_count": 9,
   "metadata": {
    "colab": {
     "base_uri": "https://localhost:8080/"
    },
    "executionInfo": {
     "elapsed": 49929,
     "status": "ok",
     "timestamp": 1701679117904,
     "user": {
      "displayName": "楊景明",
      "userId": "02385702773581765739"
     },
     "user_tz": -480
    },
    "id": "6APw-wQAPeqa",
    "outputId": "2680b7d3-1a02-4952-a56a-7b64e6e2c8fa"
   },
   "outputs": [
    {
     "name": "stdout",
     "output_type": "stream",
     "text": [
      "Epoch 1/10\n",
      "\u001b[1m469/469\u001b[0m \u001b[32m━━━━━━━━━━━━━━━━━━━━\u001b[0m\u001b[37m\u001b[0m \u001b[1m16s\u001b[0m 32ms/step - accuracy: 0.1512 - loss: 2.2658 - val_accuracy: 0.4855 - val_loss: 2.1036\n",
      "Epoch 2/10\n",
      "\u001b[1m469/469\u001b[0m \u001b[32m━━━━━━━━━━━━━━━━━━━━\u001b[0m\u001b[37m\u001b[0m \u001b[1m14s\u001b[0m 30ms/step - accuracy: 0.5974 - loss: 1.9564 - val_accuracy: 0.8101 - val_loss: 1.1508\n",
      "Epoch 3/10\n",
      "\u001b[1m469/469\u001b[0m \u001b[32m━━━━━━━━━━━━━━━━━━━━\u001b[0m\u001b[37m\u001b[0m \u001b[1m17s\u001b[0m 36ms/step - accuracy: 0.8186 - loss: 0.9288 - val_accuracy: 0.8703 - val_loss: 0.5193\n",
      "Epoch 4/10\n",
      "\u001b[1m469/469\u001b[0m \u001b[32m━━━━━━━━━━━━━━━━━━━━\u001b[0m\u001b[37m\u001b[0m \u001b[1m49s\u001b[0m 103ms/step - accuracy: 0.8675 - loss: 0.5026 - val_accuracy: 0.8945 - val_loss: 0.3985\n",
      "Epoch 5/10\n",
      "\u001b[1m469/469\u001b[0m \u001b[32m━━━━━━━━━━━━━━━━━━━━\u001b[0m\u001b[37m\u001b[0m \u001b[1m27s\u001b[0m 57ms/step - accuracy: 0.8858 - loss: 0.4069 - val_accuracy: 0.9007 - val_loss: 0.3515\n",
      "Epoch 6/10\n",
      "\u001b[1m469/469\u001b[0m \u001b[32m━━━━━━━━━━━━━━━━━━━━\u001b[0m\u001b[37m\u001b[0m \u001b[1m14s\u001b[0m 31ms/step - accuracy: 0.8967 - loss: 0.3577 - val_accuracy: 0.9070 - val_loss: 0.3253\n",
      "Epoch 7/10\n",
      "\u001b[1m469/469\u001b[0m \u001b[32m━━━━━━━━━━━━━━━━━━━━\u001b[0m\u001b[37m\u001b[0m \u001b[1m15s\u001b[0m 31ms/step - accuracy: 0.9006 - loss: 0.3412 - val_accuracy: 0.9114 - val_loss: 0.3072\n",
      "Epoch 8/10\n",
      "\u001b[1m469/469\u001b[0m \u001b[32m━━━━━━━━━━━━━━━━━━━━\u001b[0m\u001b[37m\u001b[0m \u001b[1m43s\u001b[0m 91ms/step - accuracy: 0.9070 - loss: 0.3234 - val_accuracy: 0.9167 - val_loss: 0.2913\n",
      "Epoch 9/10\n",
      "\u001b[1m469/469\u001b[0m \u001b[32m━━━━━━━━━━━━━━━━━━━━\u001b[0m\u001b[37m\u001b[0m \u001b[1m32s\u001b[0m 68ms/step - accuracy: 0.9111 - loss: 0.3019 - val_accuracy: 0.9198 - val_loss: 0.2775\n",
      "Epoch 10/10\n",
      "\u001b[1m469/469\u001b[0m \u001b[32m━━━━━━━━━━━━━━━━━━━━\u001b[0m\u001b[37m\u001b[0m \u001b[1m14s\u001b[0m 31ms/step - accuracy: 0.9159 - loss: 0.2916 - val_accuracy: 0.9202 - val_loss: 0.2692\n"
     ]
    }
   ],
   "source": [
    "batch_size = 128\n",
    "epochs = 10\n",
    "\n",
    "# Store our results here so we can plot later\n",
    "# In our fit function we specify our datsets (x_train & y_train),\n",
    "# the batch size (typically 16 to 128 depending on your RAM), the number of\n",
    "# epochs (usually 10 to 100) and our validation datasets (x_test & y_test)\n",
    "# verbose = 1, sets our training to output performance metrics every epoch\n",
    "history = model.fit(x_train,\n",
    "                    y_train,\n",
    "                    batch_size = batch_size,\n",
    "                    epochs = epochs,\n",
    "                    verbose = 1,\n",
    "                    validation_data = (x_test, y_test))"
   ]
  },
  {
   "cell_type": "code",
   "execution_count": 10,
   "metadata": {
    "colab": {
     "base_uri": "https://localhost:8080/"
    },
    "executionInfo": {
     "elapsed": 1628,
     "status": "ok",
     "timestamp": 1701679156687,
     "user": {
      "displayName": "楊景明",
      "userId": "02385702773581765739"
     },
     "user_tz": -480
    },
    "id": "QBHY9I9FP_tS",
    "outputId": "3492c17e-a62e-465f-c897-bd12b6c993af"
   },
   "outputs": [
    {
     "name": "stdout",
     "output_type": "stream",
     "text": [
      "Test loss: 0.2691880762577057\n",
      "Test accuracy: 0.920199990272522\n"
     ]
    }
   ],
   "source": [
    "# We obtain our accuracy score using the evalute function\n",
    "# Score holds two values, our Test loss and Accuracy\n",
    "score = model.evaluate(x_test, y_test, verbose=0)\n",
    "print('Test loss:', score[0])\n",
    "print('Test accuracy:', score[1])"
   ]
  },
  {
   "cell_type": "markdown",
   "metadata": {
    "id": "DZBR8z5ZQ_O6"
   },
   "source": [
    "## **7. Ploting our Loss and Accuracy Charts**"
   ]
  },
  {
   "cell_type": "code",
   "execution_count": 11,
   "metadata": {
    "colab": {
     "base_uri": "https://localhost:8080/"
    },
    "executionInfo": {
     "elapsed": 449,
     "status": "ok",
     "timestamp": 1701679164368,
     "user": {
      "displayName": "楊景明",
      "userId": "02385702773581765739"
     },
     "user_tz": -480
    },
    "id": "GbYe-_zTQm7w",
    "outputId": "426aeddf-0fac-4a84-fb9e-5b2cd57b30d4"
   },
   "outputs": [
    {
     "data": {
      "text/plain": [
       "{'accuracy': [0.23823332786560059,\n",
       "  0.6881499886512756,\n",
       "  0.8342333436012268,\n",
       "  0.8730166554450989,\n",
       "  0.88878333568573,\n",
       "  0.8969833254814148,\n",
       "  0.902916669845581,\n",
       "  0.9078166484832764,\n",
       "  0.9118499755859375,\n",
       "  0.9160666465759277],\n",
       " 'loss': [2.221867799758911,\n",
       "  1.7418545484542847,\n",
       "  0.7653486728668213,\n",
       "  0.47113534808158875,\n",
       "  0.39448437094688416,\n",
       "  0.3583211600780487,\n",
       "  0.3350391387939453,\n",
       "  0.31744584441185,\n",
       "  0.3024303913116455,\n",
       "  0.2892311215400696],\n",
       " 'val_accuracy': [0.4855000078678131,\n",
       "  0.8101000189781189,\n",
       "  0.8702999949455261,\n",
       "  0.8945000171661377,\n",
       "  0.9006999731063843,\n",
       "  0.9070000052452087,\n",
       "  0.9114000201225281,\n",
       "  0.916700005531311,\n",
       "  0.9197999835014343,\n",
       "  0.920199990272522],\n",
       " 'val_loss': [2.103560447692871,\n",
       "  1.1508080959320068,\n",
       "  0.5192780494689941,\n",
       "  0.39847448468208313,\n",
       "  0.35146456956863403,\n",
       "  0.3253331184387207,\n",
       "  0.30720365047454834,\n",
       "  0.2913157343864441,\n",
       "  0.27753758430480957,\n",
       "  0.26918813586235046]}"
      ]
     },
     "execution_count": 11,
     "metadata": {},
     "output_type": "execute_result"
    }
   ],
   "source": [
    "history_dict = history.history\n",
    "history_dict"
   ]
  },
  {
   "cell_type": "code",
   "execution_count": 12,
   "metadata": {
    "colab": {
     "base_uri": "https://localhost:8080/",
     "height": 449
    },
    "executionInfo": {
     "elapsed": 825,
     "status": "ok",
     "timestamp": 1701679173635,
     "user": {
      "displayName": "楊景明",
      "userId": "02385702773581765739"
     },
     "user_tz": -480
    },
    "id": "r8CdicM2RC26",
    "outputId": "973a2b78-6c8e-4876-a253-bf21a9c73d1f"
   },
   "outputs": [
    {
     "data": {
      "image/png": "[encoded data removed]",
      "text/plain": [
       "<Figure size 640x480 with 1 Axes>"
      ]
     },
     "metadata": {},
     "output_type": "display_data"
    }
   ],
   "source": [
    "# Plotting our loss charts\n",
    "import matplotlib.pyplot as plt\n",
    "\n",
    "# Use the History object we created to get our saved performance results\n",
    "history_dict = history.history\n",
    "\n",
    "# Extract the loss and validation losses\n",
    "loss_values = history_dict['loss']\n",
    "val_loss_values = history_dict['val_loss']\n",
    "\n",
    "# Get the number of epochs and create an array up to that number using range()\n",
    "epochs = range(1, len(loss_values) + 1)\n",
    "\n",
    "# Plot line charts for both Validation and Training Loss\n",
    "line1 = plt.plot(epochs, val_loss_values, label='Validation/Test Loss')\n",
    "line2 = plt.plot(epochs, loss_values, label='Training Loss')\n",
    "plt.setp(line1, linewidth=2.0, marker = '+', markersize=10.0)\n",
    "plt.setp(line2, linewidth=2.0, marker = '4', markersize=10.0)\n",
    "plt.xlabel('Epochs')\n",
    "plt.ylabel('Loss')\n",
    "plt.grid(True)\n",
    "plt.legend()\n",
    "plt.show()"
   ]
  },
  {
   "cell_type": "code",
   "execution_count": 13,
   "metadata": {
    "colab": {
     "base_uri": "https://localhost:8080/",
     "height": 449
    },
    "executionInfo": {
     "elapsed": 866,
     "status": "ok",
     "timestamp": 1701679198019,
     "user": {
      "displayName": "楊景明",
      "userId": "02385702773581765739"
     },
     "user_tz": -480
    },
    "id": "Ty_2S18LRFdy",
    "outputId": "da10811a-7de1-4a7b-956a-4a7f259a9971"
   },
   "outputs": [
    {
     "data": {
      "image/png": "[encoded data removed]",
      "text/plain": [
       "<Figure size 640x480 with 1 Axes>"
      ]
     },
     "metadata": {},
     "output_type": "display_data"
    }
   ],
   "source": [
    "# Plotting our accuracy charts\n",
    "import matplotlib.pyplot as plt\n",
    "\n",
    "history_dict = history.history\n",
    "\n",
    "acc_values = history_dict['accuracy']\n",
    "val_acc_values = history_dict['val_accuracy']\n",
    "epochs = range(1, len(loss_values) + 1)\n",
    "\n",
    "line1 = plt.plot(epochs, val_acc_values, label='Validation/Test Accuracy')\n",
    "line2 = plt.plot(epochs, acc_values, label='Training Accuracy')\n",
    "plt.setp(line1, linewidth=2.0, marker = '+', markersize=10.0)\n",
    "plt.setp(line2, linewidth=2.0, marker = '4', markersize=10.0)\n",
    "plt.xlabel('Epochs')\n",
    "plt.ylabel('Accuracy')\n",
    "plt.grid(True)\n",
    "plt.legend()\n",
    "plt.show()"
   ]
  },
  {
   "cell_type": "markdown",
   "metadata": {
    "id": "ssAwLx8DRW6W"
   },
   "source": [
    "## **8. Saving and Loadng our Model**\n",
    "\n",
    "**Saving our Model is simple, just use:**\n",
    "\n",
    " ```model.save(\"model_file_name.h5\")```"
   ]
  },
  {
   "cell_type": "code",
   "execution_count": 14,
   "metadata": {
    "colab": {
     "base_uri": "https://localhost:8080/"
    },
    "executionInfo": {
     "elapsed": 463,
     "status": "ok",
     "timestamp": 1701679238069,
     "user": {
      "displayName": "楊景明",
      "userId": "02385702773581765739"
     },
     "user_tz": -480
    },
    "id": "km61eIwgRQq6",
    "outputId": "e6c61064-7c0d-49d6-e0a1-66dba73bb322"
   },
   "outputs": [
    {
     "name": "stderr",
     "output_type": "stream",
     "text": [
      "WARNING:absl:You are saving your model as an HDF5 file via `model.save()` or `keras.saving.save_model(model)`. This file format is considered legacy. We recommend using instead the native Keras format, e.g. `model.save('my_model.keras')` or `keras.saving.save_model(model, 'my_model.keras')`. \n"
     ]
    },
    {
     "name": "stdout",
     "output_type": "stream",
     "text": [
      "Model Saved\n"
     ]
    }
   ],
   "source": [
    "model.save(\"mnist_simple_cnn_10_Epochs.h5\")\n",
    "print(\"Model Saved\")"
   ]
  },
  {
   "cell_type": "markdown",
   "metadata": {
    "id": "wzLp8P1jRfVv"
   },
   "source": [
    "**Loading our Saved Model is also simple, just use:**\n",
    "\n",
    "```load_model(model_file_name.h5)```"
   ]
  },
  {
   "cell_type": "code",
   "execution_count": 15,
   "metadata": {
    "executionInfo": {
     "elapsed": 483,
     "status": "ok",
     "timestamp": 1701679259935,
     "user": {
      "displayName": "楊景明",
      "userId": "02385702773581765739"
     },
     "user_tz": -480
    },
    "id": "P2ljRGu5RbrP"
   },
   "outputs": [
    {
     "name": "stderr",
     "output_type": "stream",
     "text": [
      "WARNING:absl:Compiled the loaded model, but the compiled metrics have yet to be built. `model.compile_metrics` will be empty until you train or evaluate the model.\n"
     ]
    }
   ],
   "source": [
    "# We need to import our load_model function\n",
    "from tensorflow.keras.models import load_model\n",
    "\n",
    "classifier = load_model('mnist_simple_cnn_10_Epochs.h5')"
   ]
  },
  {
   "cell_type": "markdown",
   "metadata": {
    "id": "VLMBs0fQRkg0"
   },
   "source": [
    "##  **9. Getting Predictions from our sample Test Data**\n",
    "\n",
    "**Predicting all test data**"
   ]
  },
  {
   "cell_type": "code",
   "execution_count": 16,
   "metadata": {
    "colab": {
     "base_uri": "https://localhost:8080/"
    },
    "executionInfo": {
     "elapsed": 1946,
     "status": "ok",
     "timestamp": 1701679303905,
     "user": {
      "displayName": "楊景明",
      "userId": "02385702773581765739"
     },
     "user_tz": -480
    },
    "id": "b_SQwYjBRhhL",
    "outputId": "3befcf5d-de23-4743-d25e-8809763a8c93"
   },
   "outputs": [
    {
     "name": "stdout",
     "output_type": "stream",
     "text": [
      "(10000, 28, 28, 1)\n",
      "Predicting classes for all 10,000 test images...\n",
      "\u001b[1m313/313\u001b[0m \u001b[32m━━━━━━━━━━━━━━━━━━━━\u001b[0m\u001b[37m\u001b[0m \u001b[1m2s\u001b[0m 5ms/step\n",
      "Completed.\n",
      "\n",
      "[7 2 1 ... 4 5 6]\n",
      "<class 'numpy.ndarray'>\n",
      "10000\n"
     ]
    }
   ],
   "source": [
    "import numpy as np\n",
    "\n",
    "#x_test = x_test.reshape(10000,28,28,1)\n",
    "print(x_test.shape)\n",
    "\n",
    "print(\"Predicting classes for all 10,000 test images...\")\n",
    "\n",
    "pred = np.argmax(classifier.predict(x_test), axis=-1)\n",
    "print(\"Completed.\\n\")\n",
    "\n",
    "print(pred)\n",
    "print(type(pred))\n",
    "print(len(pred))"
   ]
  },
  {
   "cell_type": "code",
   "execution_count": 17,
   "metadata": {
    "colab": {
     "base_uri": "https://localhost:8080/",
     "height": 1000
    },
    "executionInfo": {
     "elapsed": 3214,
     "status": "ok",
     "timestamp": 1701679319040,
     "user": {
      "displayName": "楊景明",
      "userId": "02385702773581765739"
     },
     "user_tz": -480
    },
    "id": "xXpVQv-0RsrA",
    "outputId": "90c79700-eebb-459b-a6e6-cd745633835f"
   },
   "outputs": [
    {
     "name": "stdout",
     "output_type": "stream",
     "text": [
      "Actual Label: 0, Predicted Label: [0]\n"
     ]
    },
    {
     "data": {
      "image/png": "[encoded data removed]",
      "text/plain": [
       "<Figure size 100x100 with 1 Axes>"
      ]
     },
     "metadata": {},
     "output_type": "display_data"
    },
    {
     "name": "stdout",
     "output_type": "stream",
     "text": [
      "Actual Label: 8, Predicted Label: [8]\n"
     ]
    },
    {
     "data": {
      "image/png": "[encoded data removed]",
      "text/plain": [
       "<Figure size 100x100 with 1 Axes>"
      ]
     },
     "metadata": {},
     "output_type": "display_data"
    },
    {
     "name": "stdout",
     "output_type": "stream",
     "text": [
      "Actual Label: 7, Predicted Label: [7]\n"
     ]
    },
    {
     "data": {
      "image/png": "[encoded data removed]",
      "text/plain": [
       "<Figure size 100x100 with 1 Axes>"
      ]
     },
     "metadata": {},
     "output_type": "display_data"
    },
    {
     "name": "stdout",
     "output_type": "stream",
     "text": [
      "Actual Label: 9, Predicted Label: [9]\n"
     ]
    },
    {
     "data": {
      "image/png": "[encoded data removed]",
      "text/plain": [
       "<Figure size 100x100 with 1 Axes>"
      ]
     },
     "metadata": {},
     "output_type": "display_data"
    },
    {
     "name": "stdout",
     "output_type": "stream",
     "text": [
      "Actual Label: 7, Predicted Label: [7]\n"
     ]
    },
    {
     "data": {
      "image/png": "[encoded data removed]",
      "text/plain": [
       "<Figure size 100x100 with 1 Axes>"
      ]
     },
     "metadata": {},
     "output_type": "display_data"
    },
    {
     "name": "stdout",
     "output_type": "stream",
     "text": [
      "Actual Label: 3, Predicted Label: [3]\n"
     ]
    },
    {
     "data": {
      "image/png": "[encoded data removed]",
      "text/plain": [
       "<Figure size 100x100 with 1 Axes>"
      ]
     },
     "metadata": {},
     "output_type": "display_data"
    },
    {
     "name": "stdout",
     "output_type": "stream",
     "text": [
      "Actual Label: 2, Predicted Label: [2]\n"
     ]
    },
    {
     "data": {
      "image/png": "[encoded data removed]",
      "text/plain": [
       "<Figure size 100x100 with 1 Axes>"
      ]
     },
     "metadata": {},
     "output_type": "display_data"
    },
    {
     "name": "stdout",
     "output_type": "stream",
     "text": [
      "Actual Label: 4, Predicted Label: [4]\n"
     ]
    },
    {
     "data": {
      "image/png": "[encoded data removed]",
      "text/plain": [
       "<Figure size 100x100 with 1 Axes>"
      ]
     },
     "metadata": {},
     "output_type": "display_data"
    },
    {
     "name": "stdout",
     "output_type": "stream",
     "text": [
      "Actual Label: 8, Predicted Label: [5]\n"
     ]
    },
    {
     "data": {
      "image/png": "[encoded data removed]",
      "text/plain": [
       "<Figure size 100x100 with 1 Axes>"
      ]
     },
     "metadata": {},
     "output_type": "display_data"
    },
    {
     "name": "stdout",
     "output_type": "stream",
     "text": [
      "Actual Label: 1, Predicted Label: [1]\n"
     ]
    },
    {
     "data": {
      "image/png": "[encoded data removed]",
      "text/plain": [
       "<Figure size 100x100 with 1 Axes>"
      ]
     },
     "metadata": {},
     "output_type": "display_data"
    }
   ],
   "source": [
    "(x_train, y_train), (x_test, y_test)  = mnist.load_data() # reload data because we have transformed the data earlier\n",
    "\n",
    "def imgshow(title=\"\", image = None, size = 6):\n",
    "    w, h = image.shape[0], image.shape[1]\n",
    "    aspect_ratio = w/h\n",
    "    plt.figure(figsize=(size * aspect_ratio,size))\n",
    "    plt.imshow(image, cmap='gray_r')\n",
    "    plt.title(title)\n",
    "    plt.show()\n",
    "\n",
    "for i in range(0,10): # visualize 10 random samples\n",
    "    rand = np.random.randint(0,len(x_test))\n",
    "    img = x_test[rand] # (28, 28)\n",
    "    img_reshape = img.reshape(1,28,28,1)\n",
    "    pred = np.argmax(classifier.predict(img_reshape, verbose=0), axis=-1)\n",
    "    label = y_test[rand]\n",
    "    print(f'Actual Label: {label}, Predicted Label: {pred}')\n",
    "    imgshow(\"\", img, size = 1)"
   ]
  },
  {
   "cell_type": "code",
   "execution_count": null,
   "metadata": {
    "id": "XVTG2y-ES_X7"
   },
   "outputs": [],
   "source": []
  }
 ],
 "metadata": {
  "accelerator": "GPU",
  "colab": {
   "authorship_tag": "ABX9TyMHftuvEleC5OVUNXr2j2Qk",
   "gpuType": "T4",
   "provenance": []
  },
  "kernelspec": {
   "display_name": "ml_nchu",
   "language": "python",
   "name": "python3"
  },
  "language_info": {
   "codemirror_mode": {
    "name": "ipython",
    "version": 3
   },
   "file_extension": ".py",
   "mimetype": "text/x-python",
   "name": "python",
   "nbconvert_exporter": "python",
   "pygments_lexer": "ipython3",
   "version": "3.12.7"
  }
 },
 "nbformat": 4,
 "nbformat_minor": 0
}
